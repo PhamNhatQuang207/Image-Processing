{
 "cells": [
  {
   "cell_type": "code",
   "execution_count": 7,
   "id": "d9f5dc85",
   "metadata": {},
   "outputs": [
    {
     "name": "stdout",
     "output_type": "stream",
     "text": [
      "[[  0   0   0   0   0   0]\n",
      " [  0 131 297 206 219   0]\n",
      " [  0 207 477 335 290   0]\n",
      " [  0 242 490 470 298   0]\n",
      " [  0 158 305 371 182   0]\n",
      " [  0   0   0   0   0   0]]\n"
     ]
    }
   ],
   "source": [
    "import numpy as np\n",
    "import matplotlib.pyplot as plt\n",
    "\n",
    "img=np.array([[0,0,0,0,0,0],\n",
    "            [0,23,12,34,22,0],\n",
    "            [0,89,35,25,78,0],\n",
    "            [0,67,34,21,98,0],\n",
    "            [0,57,76,36,54,0],\n",
    "            [0,0,0,0,0,0]]\n",
    "         )\n",
    "filter = np.array([[23/37,12/37,34/37],\n",
    "                  [89/37,35/37,25/37],\n",
    "                  [67/37,34/37,21/37]])\n",
    "output = img.copy()\n",
    "height,width = img.shape\n",
    "for y in range(1, height - 1):\n",
    "    for x in range(1, width - 1):\n",
    "        s = 0\n",
    "        for j in range (3):\n",
    "            for i in range (3):\n",
    "                pixel = int(img[y + j - 1, x + i - 1])\n",
    "                s += pixel*filter[j][i]\n",
    "        grey = s \n",
    "        output[y, x] = grey\n",
    "print(output)"
   ]
  },
  {
   "cell_type": "code",
   "execution_count": 9,
   "id": "70e70550",
   "metadata": {},
   "outputs": [
    {
     "name": "stdout",
     "output_type": "stream",
     "text": [
      "[[ 0  0  0  0  0  0]\n",
      " [ 0  0 23 22  0  0]\n",
      " [ 0 23 34 34 22  0]\n",
      " [ 0 35 36 36 25  0]\n",
      " [ 0  0 34 34  0  0]\n",
      " [ 0  0  0  0  0  0]]\n"
     ]
    }
   ],
   "source": [
    "img=np.array([[0,0,0,0,0,0],\n",
    "            [0,23,12,34,22,0],\n",
    "            [0,89,35,25,78,0],\n",
    "            [0,67,34,21,98,0],\n",
    "            [0,57,76,36,54,0],\n",
    "            [0,0,0,0,0,0]]\n",
    "         )\n",
    "output = img.copy()\n",
    "height,width = img.shape\n",
    "for y in range(1, height - 1):\n",
    "    for x in range(1, width - 1):\n",
    "        window = img[y-1:y+2, x-1:x+2]\n",
    "        output[y, x] = np.median(window)\n",
    "\n",
    "print(output)"
   ]
  }
 ],
 "metadata": {
  "kernelspec": {
   "display_name": "venv",
   "language": "python",
   "name": "python3"
  },
  "language_info": {
   "codemirror_mode": {
    "name": "ipython",
    "version": 3
   },
   "file_extension": ".py",
   "mimetype": "text/x-python",
   "name": "python",
   "nbconvert_exporter": "python",
   "pygments_lexer": "ipython3",
   "version": "3.12.3"
  }
 },
 "nbformat": 4,
 "nbformat_minor": 5
}
